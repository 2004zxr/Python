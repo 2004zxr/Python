{
 "cells": [
  {
   "cell_type": "markdown",
   "metadata": {},
   "source": [
    "# OS库学习\n",
    "关于Python中的os库（基础库）的学习。\n",
    "\n",
    "`os`库是Python的标准库之一，它提供了一种便携的方式使用操作系统功能。os 库的许多功能用于文件和目录的操作、环境变量的获取、执行系统命令等。以下是一些常用功能及其示例代码："
   ]
  },
  {
   "cell_type": "markdown",
   "metadata": {},
   "source": [
    "---\n",
    "\n",
    "### 1. 文件和目录操作"
   ]
  },
  {
   "cell_type": "code",
   "execution_count": 54,
   "metadata": {},
   "outputs": [
    {
     "data": {
      "text/plain": [
       "'g:\\\\VScode project\\\\Python'"
      ]
     },
     "execution_count": 54,
     "metadata": {},
     "output_type": "execute_result"
    }
   ],
   "source": [
    "import os\n",
    "path = os.getcwd()\n",
    "path #获取当前目录"
   ]
  },
  {
   "cell_type": "code",
   "execution_count": 5,
   "metadata": {},
   "outputs": [],
   "source": [
    "path = os.chdir('g:\\\\VScode project\\\\Python')\n",
    "path #工作地址转移至指定目录"
   ]
  },
  {
   "cell_type": "code",
   "execution_count": 6,
   "metadata": {},
   "outputs": [],
   "source": [
    "path = os.mkdir('new_directory')\n",
    "path #新建指定名称的目录"
   ]
  },
  {
   "cell_type": "code",
   "execution_count": 7,
   "metadata": {},
   "outputs": [],
   "source": [
    "path = os.rmdir('new_directory')\n",
    "path #删除指定的目录"
   ]
  },
  {
   "cell_type": "code",
   "execution_count": 12,
   "metadata": {},
   "outputs": [
    {
     "data": {
      "text/plain": [
       "['Demo 1.py', 'markdown', 'os_ku.ipynb', 'test1.ipynb']"
      ]
     },
     "execution_count": 12,
     "metadata": {},
     "output_type": "execute_result"
    }
   ],
   "source": [
    "path = os.listdir('.')\n",
    "path #当前目录中的所有内容"
   ]
  },
  {
   "cell_type": "markdown",
   "metadata": {},
   "source": [
    "---"
   ]
  },
  {
   "cell_type": "markdown",
   "metadata": {},
   "source": [
    "### 2.文件操作"
   ]
  },
  {
   "cell_type": "code",
   "execution_count": 15,
   "metadata": {},
   "outputs": [
    {
     "name": "stdout",
     "output_type": "stream",
     "text": [
      "删除了文件 'example.txt'\n"
     ]
    }
   ],
   "source": [
    "os.remove('example.txt')\n",
    "print(\"删除了文件 'example.txt'\")#删除指定文件"
   ]
  },
  {
   "cell_type": "code",
   "execution_count": 16,
   "metadata": {},
   "outputs": [
    {
     "name": "stdout",
     "output_type": "stream",
     "text": [
      "将 'old_name.txt' 重命名为 'new_name.txt'\n"
     ]
    }
   ],
   "source": [
    "os.rename('old_name.txt', 'new_name.txt')\n",
    "print(\"将 'old_name.txt' 重命名为 'new_name.txt'\")#重命名指定文件"
   ]
  },
  {
   "cell_type": "markdown",
   "metadata": {},
   "source": [
    "---"
   ]
  },
  {
   "cell_type": "markdown",
   "metadata": {},
   "source": [
    "### 3.环境变量"
   ]
  },
  {
   "cell_type": "code",
   "execution_count": null,
   "metadata": {},
   "outputs": [],
   "source": [
    "path = os.getenv('PATH')\n",
    "path #获取环境变量"
   ]
  },
  {
   "cell_type": "code",
   "execution_count": null,
   "metadata": {},
   "outputs": [],
   "source": [
    "os.environ['MY_VAR'] = 'my_value'\n",
    "print(f\"设置环境变量 MY_VAR 的值为：{os.environ['MY_VAR']}\")\n",
    "#设置环境变量"
   ]
  },
  {
   "cell_type": "markdown",
   "metadata": {},
   "source": [
    "---"
   ]
  },
  {
   "cell_type": "markdown",
   "metadata": {},
   "source": [
    "### 4.执行系统命令"
   ]
  },
  {
   "cell_type": "code",
   "execution_count": 17,
   "metadata": {},
   "outputs": [
    {
     "data": {
      "text/plain": [
       "0"
      ]
     },
     "execution_count": 17,
     "metadata": {},
     "output_type": "execute_result"
    }
   ],
   "source": [
    "path = os.system('echo Hello, World!')\n",
    "path"
   ]
  },
  {
   "cell_type": "markdown",
   "metadata": {},
   "source": [
    "---"
   ]
  },
  {
   "cell_type": "markdown",
   "metadata": {},
   "source": [
    "### 5.路径操作"
   ]
  },
  {
   "cell_type": "code",
   "execution_count": 18,
   "metadata": {},
   "outputs": [
    {
     "data": {
      "text/plain": [
       "'g:\\\\VScode project\\\\Python\\\\os_ku.ipynb'"
      ]
     },
     "execution_count": 18,
     "metadata": {},
     "output_type": "execute_result"
    }
   ],
   "source": [
    "path = os.path.abspath('os_ku.ipynb')\n",
    "path #获取文件绝对路径"
   ]
  },
  {
   "cell_type": "code",
   "execution_count": 21,
   "metadata": {},
   "outputs": [
    {
     "name": "stdout",
     "output_type": "stream",
     "text": [
      "'example.txt' 是否存在：False\n"
     ]
    }
   ],
   "source": [
    "path_exists = os.path.exists('example.txt')\n",
    "print(f\"'example.txt' 是否存在：{path_exists}\")\n",
    "#判断路径是否存在"
   ]
  },
  {
   "cell_type": "code",
   "execution_count": 29,
   "metadata": {},
   "outputs": [],
   "source": [
    "exists = os.path.exists('新的文件夹')#应用\n",
    "if exists:\n",
    "    os.rmdir(\"新的文件夹\")\n",
    "else:\n",
    "    print(\"没有这个文件路径！\")"
   ]
  },
  {
   "cell_type": "code",
   "execution_count": 22,
   "metadata": {},
   "outputs": [
    {
     "name": "stdout",
     "output_type": "stream",
     "text": [
      "'example.txt' 是否是文件：False\n"
     ]
    }
   ],
   "source": [
    "is_file = os.path.isfile('example.txt')\n",
    "print(f\"'example.txt' 是否是文件：{is_file}\")\n",
    "#判断是否是文件"
   ]
  },
  {
   "cell_type": "code",
   "execution_count": 23,
   "metadata": {},
   "outputs": [
    {
     "name": "stdout",
     "output_type": "stream",
     "text": [
      "'example_directory' 是否是目录：False\n"
     ]
    }
   ],
   "source": [
    "is_dir = os.path.isdir('example_directory')\n",
    "print(f\"'example_directory' 是否是目录：{is_dir}\")\n",
    "#判断是否是目录"
   ]
  },
  {
   "cell_type": "markdown",
   "metadata": {},
   "source": [
    "---"
   ]
  },
  {
   "cell_type": "markdown",
   "metadata": {},
   "source": [
    "### 6.其他函数"
   ]
  },
  {
   "cell_type": "code",
   "execution_count": 25,
   "metadata": {},
   "outputs": [
    {
     "data": {
      "text/plain": [
       "8408"
      ]
     },
     "execution_count": 25,
     "metadata": {},
     "output_type": "execute_result"
    }
   ],
   "source": [
    "path = os.path.getsize('os_ku.ipynb')\n",
    "path #获取指定文件大小"
   ]
  },
  {
   "cell_type": "code",
   "execution_count": 59,
   "metadata": {},
   "outputs": [
    {
     "data": {
      "text/plain": [
       "'2024-07-26 11:15:41'"
      ]
     },
     "execution_count": 59,
     "metadata": {},
     "output_type": "execute_result"
    }
   ],
   "source": [
    "import time\n",
    "modification_time = os.path.getmtime('os_ku.ipynb')\n",
    "readable_time = time.strftime('%Y-%m-%d %H:%M:%S', time.localtime(modification_time))\n",
    "#改为可读时间\n",
    "readable_time #获取文件修改时间"
   ]
  }
 ],
 "metadata": {
  "kernelspec": {
   "display_name": "Python_test",
   "language": "python",
   "name": "python3"
  },
  "language_info": {
   "codemirror_mode": {
    "name": "ipython",
    "version": 3
   },
   "file_extension": ".py",
   "mimetype": "text/x-python",
   "name": "python",
   "nbconvert_exporter": "python",
   "pygments_lexer": "ipython3",
   "version": "3.11.9"
  }
 },
 "nbformat": 4,
 "nbformat_minor": 2
}
