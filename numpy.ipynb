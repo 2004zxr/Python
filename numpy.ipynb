{
 "cells": [
  {
   "cell_type": "markdown",
   "metadata": {},
   "source": [
    "# numpy库学习"
   ]
  },
  {
   "cell_type": "markdown",
   "metadata": {},
   "source": [
    "`Numpy` 是 Python 的一个科学计算库，它提供了支持多维数组和矩阵运算的功能，此外还包含大量数学函数库。以下是 Numpy 的基本用法和一些常见的操作示例。"
   ]
  },
  {
   "cell_type": "markdown",
   "metadata": {},
   "source": [
    "---"
   ]
  },
  {
   "cell_type": "markdown",
   "metadata": {
    "vscode": {
     "languageId": "bat"
    }
   },
   "source": [
    "### 1.安装 Numpy"
   ]
  },
  {
   "cell_type": "code",
   "execution_count": null,
   "metadata": {},
   "outputs": [],
   "source": [
    "pip install numpy"
   ]
  },
  {
   "cell_type": "markdown",
   "metadata": {},
   "source": [
    "---"
   ]
  },
  {
   "cell_type": "markdown",
   "metadata": {},
   "source": [
    "### 2. 导入 Numpy"
   ]
  },
  {
   "cell_type": "code",
   "execution_count": 2,
   "metadata": {},
   "outputs": [],
   "source": [
    "import numpy as np"
   ]
  },
  {
   "cell_type": "markdown",
   "metadata": {},
   "source": [
    "---"
   ]
  },
  {
   "cell_type": "markdown",
   "metadata": {},
   "source": [
    "### 3.Numpy 数组"
   ]
  },
  {
   "cell_type": "code",
   "execution_count": 4,
   "metadata": {},
   "outputs": [
    {
     "name": "stdout",
     "output_type": "stream",
     "text": [
      "array1: [1 2 3 4 5]\n",
      "array2:\n",
      " [[0. 0. 0. 0.]\n",
      " [0. 0. 0. 0.]\n",
      " [0. 0. 0. 0.]]\n",
      "array3:\n",
      " [[1. 1. 1.]\n",
      " [1. 1. 1.]]\n",
      "array4: [0 2 4 6 8]\n",
      "array5: [0.   0.25 0.5  0.75 1.  ]\n"
     ]
    }
   ],
   "source": [
    "import numpy as np\n",
    "\n",
    "# 从列表创建数组\n",
    "array1 = np.array([1, 2, 3, 4, 5])\n",
    "print(\"array1:\", array1)\n",
    "\n",
    "# 创建全零数组\n",
    "array2 = np.zeros((3, 4))\n",
    "print(\"array2:\\n\", array2)\n",
    "\n",
    "# 创建全一数组\n",
    "array3 = np.ones((2, 3))\n",
    "print(\"array3:\\n\", array3)\n",
    "\n",
    "# 创建一个范围内的数组\n",
    "array4 = np.arange(0, 10, 2)  # 从0到10（不包括10），步长为2\n",
    "print(\"array4:\", array4)\n",
    "\n",
    "# 创建一个线性间隔的数组\n",
    "array5 = np.linspace(0, 1, 5)  # 从0到1，分成5个均匀间隔\n",
    "print(\"array5:\", array5)\n"
   ]
  },
  {
   "cell_type": "code",
   "execution_count": 5,
   "metadata": {},
   "outputs": [
    {
     "name": "stdout",
     "output_type": "stream",
     "text": [
      "数组形状: (2, 3)\n",
      "数组维度: 2\n",
      "数组元素类型: int64\n",
      "数组大小: 6\n",
      "数组每个元素的字节大小: 8\n"
     ]
    }
   ],
   "source": [
    "array = np.array([[1, 2, 3], [4, 5, 6]])\n",
    "print(\"数组形状:\", array.shape)\n",
    "print(\"数组维度:\", array.ndim)\n",
    "print(\"数组元素类型:\", array.dtype)\n",
    "print(\"数组大小:\", array.size)\n",
    "print(\"数组每个元素的字节大小:\", array.itemsize)\n"
   ]
  },
  {
   "cell_type": "markdown",
   "metadata": {},
   "source": [
    "---"
   ]
  },
  {
   "cell_type": "markdown",
   "metadata": {},
   "source": [
    "### 4. 数组操作"
   ]
  },
  {
   "cell_type": "code",
   "execution_count": 6,
   "metadata": {},
   "outputs": [
    {
     "name": "stdout",
     "output_type": "stream",
     "text": [
      "数组的第一个元素: 1\n",
      "数组的前三个元素: [1 2 3]\n",
      "数组的最后两个元素: [4 5]\n"
     ]
    }
   ],
   "source": [
    "array = np.array([1, 2, 3, 4, 5])\n",
    "print(\"数组的第一个元素:\", array[0])\n",
    "print(\"数组的前三个元素:\", array[:3])\n",
    "print(\"数组的最后两个元素:\", array[-2:])\n"
   ]
  },
  {
   "cell_type": "code",
   "execution_count": 7,
   "metadata": {},
   "outputs": [
    {
     "name": "stdout",
     "output_type": "stream",
     "text": [
      "第0行第1列的元素: 2\n",
      "第1行的所有元素: [4 5 6]\n",
      "所有行的第2列的元素: [3 6 9]\n"
     ]
    }
   ],
   "source": [
    "array = np.array([[1, 2, 3], [4, 5, 6], [7, 8, 9]])\n",
    "print(\"第0行第1列的元素:\", array[0, 1])\n",
    "print(\"第1行的所有元素:\", array[1, :])\n",
    "print(\"所有行的第2列的元素:\", array[:, 2])\n"
   ]
  },
  {
   "cell_type": "code",
   "execution_count": 8,
   "metadata": {},
   "outputs": [
    {
     "name": "stdout",
     "output_type": "stream",
     "text": [
      "数组加法: [5 7 9]\n",
      "数组减法: [-3 -3 -3]\n",
      "数组乘法: [ 4 10 18]\n",
      "数组除法: [0.25 0.4  0.5 ]\n",
      "数组平方: [1 4 9]\n"
     ]
    }
   ],
   "source": [
    "array1 = np.array([1, 2, 3])\n",
    "array2 = np.array([4, 5, 6])\n",
    "\n",
    "print(\"数组加法:\", array1 + array2)\n",
    "print(\"数组减法:\", array1 - array2)\n",
    "print(\"数组乘法:\", array1 * array2)\n",
    "print(\"数组除法:\", array1 / array2)\n",
    "print(\"数组平方:\", array1 ** 2)\n"
   ]
  },
  {
   "cell_type": "markdown",
   "metadata": {},
   "source": [
    "---"
   ]
  },
  {
   "cell_type": "markdown",
   "metadata": {},
   "source": [
    "### 5.常用函数"
   ]
  },
  {
   "cell_type": "code",
   "execution_count": 9,
   "metadata": {},
   "outputs": [
    {
     "name": "stdout",
     "output_type": "stream",
     "text": [
      "数组求和: 15\n",
      "数组平均值: 3.0\n",
      "数组最大值: 5\n",
      "数组最小值: 1\n",
      "数组标准差: 1.4142135623730951\n"
     ]
    }
   ],
   "source": [
    "array = np.array([1, 2, 3, 4, 5])\n",
    "\n",
    "print(\"数组求和:\", np.sum(array))\n",
    "print(\"数组平均值:\", np.mean(array))\n",
    "print(\"数组最大值:\", np.max(array))\n",
    "print(\"数组最小值:\", np.min(array))\n",
    "print(\"数组标准差:\", np.std(array))\n"
   ]
  },
  {
   "cell_type": "code",
   "execution_count": 15,
   "metadata": {},
   "outputs": [
    {
     "name": "stdout",
     "output_type": "stream",
     "text": [
      "随机数: 0.7808382426221533\n",
      "随机数组:\n",
      " [[0.04074339 0.12207368 0.02615567]\n",
      " [0.80889353 0.77532042 0.56128505]]\n",
      "正态分布随机数组:\n",
      " [[-1.54364089 -0.57087515  0.05001329]\n",
      " [ 0.64452447  0.9492622  -1.02576692]]\n"
     ]
    }
   ],
   "source": [
    "# 生成一个0到1之间的随机数\n",
    "random_number = np.random.random()\n",
    "print(\"随机数:\", random_number)\n",
    "\n",
    "# 生成一个形状为(2, 3)的数组，包含0到1之间的随机数\n",
    "random_array = np.random.random((2, 3))\n",
    "print(\"随机数组:\\n\", random_array)\n",
    "\n",
    "# 生成一个均值为0，标准差为1的正态分布随机数\n",
    "normal_array = np.random.normal(0, 1, (2, 3))\n",
    "print(\"正态分布随机数组:\\n\", normal_array)\n"
   ]
  },
  {
   "cell_type": "code",
   "execution_count": 16,
   "metadata": {},
   "outputs": [
    {
     "name": "stdout",
     "output_type": "stream",
     "text": [
      "原始数组:\n",
      " [[1 2 3]\n",
      " [4 5 6]]\n",
      "变形后的数组:\n",
      " [[1 2]\n",
      " [3 4]\n",
      " [5 6]]\n"
     ]
    }
   ],
   "source": [
    "array = np.array([[1, 2, 3], [4, 5, 6]])\n",
    "reshaped_array = array.reshape((3, 2))\n",
    "print(\"原始数组:\\n\", array)\n",
    "print(\"变形后的数组:\\n\", reshaped_array)\n",
    "#数组变形"
   ]
  },
  {
   "cell_type": "markdown",
   "metadata": {},
   "source": [
    "---"
   ]
  },
  {
   "cell_type": "markdown",
   "metadata": {},
   "source": [
    "### 6.示例代码"
   ]
  },
  {
   "cell_type": "code",
   "execution_count": 17,
   "metadata": {},
   "outputs": [
    {
     "name": "stdout",
     "output_type": "stream",
     "text": [
      "数组求和: 15\n",
      "数组平均值: 3.0\n",
      "数组最大值: 5\n",
      "随机数组:\n",
      " [[0.45685209 0.45667962 0.86717688]\n",
      " [0.99301679 0.05352161 0.76085266]\n",
      " [0.19614348 0.29940022 0.95820277]]\n",
      "变形后的数组:\n",
      " [[0.45685209 0.45667962 0.86717688 0.99301679 0.05352161 0.76085266\n",
      "  0.19614348 0.29940022 0.95820277]]\n"
     ]
    }
   ],
   "source": [
    "import numpy as np\n",
    "\n",
    "# 创建一个数组\n",
    "array = np.array([1, 2, 3, 4, 5])\n",
    "\n",
    "# 进行一些基本运算\n",
    "sum_result = np.sum(array)\n",
    "mean_result = np.mean(array)\n",
    "max_result = np.max(array)\n",
    "\n",
    "print(\"数组求和:\", sum_result)\n",
    "print(\"数组平均值:\", mean_result)\n",
    "print(\"数组最大值:\", max_result)\n",
    "\n",
    "# 创建一个随机数组\n",
    "random_array = np.random.random((3, 3))\n",
    "print(\"随机数组:\\n\", random_array)\n",
    "\n",
    "# 对随机数组进行形状变换\n",
    "reshaped_array = random_array.reshape((1, 9))\n",
    "print(\"变形后的数组:\\n\", reshaped_array)\n"
   ]
  }
 ],
 "metadata": {
  "kernelspec": {
   "display_name": "Python_test",
   "language": "python",
   "name": "python3"
  },
  "language_info": {
   "codemirror_mode": {
    "name": "ipython",
    "version": 3
   },
   "file_extension": ".py",
   "mimetype": "text/x-python",
   "name": "python",
   "nbconvert_exporter": "python",
   "pygments_lexer": "ipython3",
   "version": "3.11.9"
  }
 },
 "nbformat": 4,
 "nbformat_minor": 2
}
